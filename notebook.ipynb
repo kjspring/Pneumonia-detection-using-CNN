{
 "cells": [
  {
   "cell_type": "markdown",
   "id": "4ffe5917",
   "metadata": {},
   "source": [
    "# Identifying Pneumonina using Convolutional Neural Networks\n",
    "\n",
    "- Student Name: Kevin Spring\n",
    "- Student pace: Flex\n",
    "- Scheduled Project Review: December 12, 2022\n",
    "- Instructor name: Morgan Jones\n",
    "- Blog Post"
   ]
  },
  {
   "cell_type": "markdown",
   "id": "a27faa2a",
   "metadata": {},
   "source": [
    "# Summary\n"
   ]
  },
  {
   "cell_type": "markdown",
   "id": "66d93853",
   "metadata": {},
   "source": [
    "# Table of Contents"
   ]
  },
  {
   "cell_type": "markdown",
   "id": "aa5e7f38",
   "metadata": {},
   "source": [
    "# Introduction"
   ]
  },
  {
   "cell_type": "markdown",
   "id": "573de929",
   "metadata": {},
   "source": [
    "# Methodology"
   ]
  },
  {
   "cell_type": "markdown",
   "id": "55fe8388",
   "metadata": {},
   "source": [
    "## Data"
   ]
  },
  {
   "cell_type": "code",
   "execution_count": null,
   "id": "1bcb0c7e",
   "metadata": {},
   "outputs": [],
   "source": [
    "# Download the data.zip file and unpack it into test-train split using python_splitter\n",
    "import os\n",
    "from python_splitter import split_from_folder # https://github.com/bharatadk/python_splitter\n",
    "\n",
    "# absolute path of unzipped data directory\n",
    "PATH = os.path.join(os.path.abspath(os.getcwd()),'data\\\\')\n",
    "split_from_folder(PATH, train = 0.8, test=0.2)\n",
    "#pneumonia_path"
   ]
  },
  {
   "cell_type": "code",
   "execution_count": 1,
   "id": "13d06b58",
   "metadata": {},
   "outputs": [
    {
     "ename": "ModuleNotFoundError",
     "evalue": "No module named 'tensorflow'",
     "output_type": "error",
     "traceback": [
      "\u001b[1;31m---------------------------------------------------------------------------\u001b[0m",
      "\u001b[1;31mModuleNotFoundError\u001b[0m                       Traceback (most recent call last)",
      "\u001b[1;32m~\\AppData\\Local\\Temp/ipykernel_9392/3956994212.py\u001b[0m in \u001b[0;36m<module>\u001b[1;34m\u001b[0m\n\u001b[1;32m----> 1\u001b[1;33m \u001b[1;32mimport\u001b[0m \u001b[0mtensorflow\u001b[0m \u001b[1;32mas\u001b[0m \u001b[0mtf\u001b[0m\u001b[1;33m\u001b[0m\u001b[1;33m\u001b[0m\u001b[0m\n\u001b[0m\u001b[0;32m      2\u001b[0m \u001b[1;33m\u001b[0m\u001b[0m\n\u001b[0;32m      3\u001b[0m \u001b[0msess\u001b[0m \u001b[1;33m=\u001b[0m \u001b[0mtf\u001b[0m\u001b[1;33m.\u001b[0m\u001b[0mSession\u001b[0m\u001b[1;33m(\u001b[0m\u001b[1;33m)\u001b[0m\u001b[1;33m\u001b[0m\u001b[1;33m\u001b[0m\u001b[0m\n",
      "\u001b[1;31mModuleNotFoundError\u001b[0m: No module named 'tensorflow'"
     ]
    }
   ],
   "source": [
    "import tensorflow as tf\n",
    "\n",
    "sess = tf.Session()"
   ]
  },
  {
   "cell_type": "code",
   "execution_count": 1,
   "id": "587b11d6",
   "metadata": {},
   "outputs": [
    {
     "name": "stderr",
     "output_type": "stream",
     "text": [
      "D:\\ProgramData\\Anaconda3\\envs\\tf\\lib\\site-packages\\tensorflow\\python\\framework\\dtypes.py:516: FutureWarning: Passing (type, 1) or '1type' as a synonym of type is deprecated; in a future version of numpy, it will be understood as (type, (1,)) / '(1,)type'.\n",
      "  _np_qint8 = np.dtype([(\"qint8\", np.int8, 1)])\n",
      "D:\\ProgramData\\Anaconda3\\envs\\tf\\lib\\site-packages\\tensorflow\\python\\framework\\dtypes.py:517: FutureWarning: Passing (type, 1) or '1type' as a synonym of type is deprecated; in a future version of numpy, it will be understood as (type, (1,)) / '(1,)type'.\n",
      "  _np_quint8 = np.dtype([(\"quint8\", np.uint8, 1)])\n",
      "D:\\ProgramData\\Anaconda3\\envs\\tf\\lib\\site-packages\\tensorflow\\python\\framework\\dtypes.py:518: FutureWarning: Passing (type, 1) or '1type' as a synonym of type is deprecated; in a future version of numpy, it will be understood as (type, (1,)) / '(1,)type'.\n",
      "  _np_qint16 = np.dtype([(\"qint16\", np.int16, 1)])\n",
      "D:\\ProgramData\\Anaconda3\\envs\\tf\\lib\\site-packages\\tensorflow\\python\\framework\\dtypes.py:519: FutureWarning: Passing (type, 1) or '1type' as a synonym of type is deprecated; in a future version of numpy, it will be understood as (type, (1,)) / '(1,)type'.\n",
      "  _np_quint16 = np.dtype([(\"quint16\", np.uint16, 1)])\n",
      "D:\\ProgramData\\Anaconda3\\envs\\tf\\lib\\site-packages\\tensorflow\\python\\framework\\dtypes.py:520: FutureWarning: Passing (type, 1) or '1type' as a synonym of type is deprecated; in a future version of numpy, it will be understood as (type, (1,)) / '(1,)type'.\n",
      "  _np_qint32 = np.dtype([(\"qint32\", np.int32, 1)])\n",
      "D:\\ProgramData\\Anaconda3\\envs\\tf\\lib\\site-packages\\tensorflow\\python\\framework\\dtypes.py:525: FutureWarning: Passing (type, 1) or '1type' as a synonym of type is deprecated; in a future version of numpy, it will be understood as (type, (1,)) / '(1,)type'.\n",
      "  np_resource = np.dtype([(\"resource\", np.ubyte, 1)])\n",
      "D:\\ProgramData\\Anaconda3\\envs\\tf\\lib\\site-packages\\tensorboard\\compat\\tensorflow_stub\\dtypes.py:541: FutureWarning: Passing (type, 1) or '1type' as a synonym of type is deprecated; in a future version of numpy, it will be understood as (type, (1,)) / '(1,)type'.\n",
      "  _np_qint8 = np.dtype([(\"qint8\", np.int8, 1)])\n",
      "D:\\ProgramData\\Anaconda3\\envs\\tf\\lib\\site-packages\\tensorboard\\compat\\tensorflow_stub\\dtypes.py:542: FutureWarning: Passing (type, 1) or '1type' as a synonym of type is deprecated; in a future version of numpy, it will be understood as (type, (1,)) / '(1,)type'.\n",
      "  _np_quint8 = np.dtype([(\"quint8\", np.uint8, 1)])\n",
      "D:\\ProgramData\\Anaconda3\\envs\\tf\\lib\\site-packages\\tensorboard\\compat\\tensorflow_stub\\dtypes.py:543: FutureWarning: Passing (type, 1) or '1type' as a synonym of type is deprecated; in a future version of numpy, it will be understood as (type, (1,)) / '(1,)type'.\n",
      "  _np_qint16 = np.dtype([(\"qint16\", np.int16, 1)])\n",
      "D:\\ProgramData\\Anaconda3\\envs\\tf\\lib\\site-packages\\tensorboard\\compat\\tensorflow_stub\\dtypes.py:544: FutureWarning: Passing (type, 1) or '1type' as a synonym of type is deprecated; in a future version of numpy, it will be understood as (type, (1,)) / '(1,)type'.\n",
      "  _np_quint16 = np.dtype([(\"quint16\", np.uint16, 1)])\n",
      "D:\\ProgramData\\Anaconda3\\envs\\tf\\lib\\site-packages\\tensorboard\\compat\\tensorflow_stub\\dtypes.py:545: FutureWarning: Passing (type, 1) or '1type' as a synonym of type is deprecated; in a future version of numpy, it will be understood as (type, (1,)) / '(1,)type'.\n",
      "  _np_qint32 = np.dtype([(\"qint32\", np.int32, 1)])\n",
      "D:\\ProgramData\\Anaconda3\\envs\\tf\\lib\\site-packages\\tensorboard\\compat\\tensorflow_stub\\dtypes.py:550: FutureWarning: Passing (type, 1) or '1type' as a synonym of type is deprecated; in a future version of numpy, it will be understood as (type, (1,)) / '(1,)type'.\n",
      "  np_resource = np.dtype([(\"resource\", np.ubyte, 1)])\n"
     ]
    },
    {
     "name": "stdout",
     "output_type": "stream",
     "text": [
      "[name: \"/device:CPU:0\"\n",
      "device_type: \"CPU\"\n",
      "memory_limit: 268435456\n",
      "locality {\n",
      "}\n",
      "incarnation: 14039009617357312798\n",
      "]\n"
     ]
    }
   ],
   "source": [
    "from tensorflow.python.client import device_lib\n",
    "print(device_lib.list_local_devices())"
   ]
  },
  {
   "cell_type": "code",
   "execution_count": 2,
   "id": "e8930076",
   "metadata": {},
   "outputs": [
    {
     "name": "stdout",
     "output_type": "stream",
     "text": [
      "1.14.0\n"
     ]
    },
    {
     "ename": "AttributeError",
     "evalue": "module 'tensorflow._api.v1.config' has no attribute 'list_physical_devices'",
     "output_type": "error",
     "traceback": [
      "\u001b[1;31m---------------------------------------------------------------------------\u001b[0m",
      "\u001b[1;31mAttributeError\u001b[0m                            Traceback (most recent call last)",
      "\u001b[1;32m~\\AppData\\Local\\Temp\\ipykernel_8312\\4227348532.py\u001b[0m in \u001b[0;36m<module>\u001b[1;34m\u001b[0m\n\u001b[0;32m      1\u001b[0m \u001b[1;32mimport\u001b[0m \u001b[0mtensorflow\u001b[0m \u001b[1;32mas\u001b[0m \u001b[0mtf\u001b[0m\u001b[1;33m\u001b[0m\u001b[1;33m\u001b[0m\u001b[0m\n\u001b[0;32m      2\u001b[0m \u001b[0mprint\u001b[0m\u001b[1;33m(\u001b[0m\u001b[0mtf\u001b[0m\u001b[1;33m.\u001b[0m\u001b[0m__version__\u001b[0m\u001b[1;33m)\u001b[0m\u001b[1;33m\u001b[0m\u001b[1;33m\u001b[0m\u001b[0m\n\u001b[1;32m----> 3\u001b[1;33m \u001b[0mprint\u001b[0m\u001b[1;33m(\u001b[0m\u001b[0mtf\u001b[0m\u001b[1;33m.\u001b[0m\u001b[0mconfig\u001b[0m\u001b[1;33m.\u001b[0m\u001b[0mlist_physical_devices\u001b[0m\u001b[1;33m(\u001b[0m\u001b[1;33m)\u001b[0m\u001b[1;33m)\u001b[0m\u001b[1;33m\u001b[0m\u001b[1;33m\u001b[0m\u001b[0m\n\u001b[0m\u001b[0;32m      4\u001b[0m \u001b[1;32mimport\u001b[0m \u001b[0mkeras\u001b[0m\u001b[1;33m\u001b[0m\u001b[1;33m\u001b[0m\u001b[0m\n\u001b[0;32m      5\u001b[0m \u001b[0mprint\u001b[0m\u001b[1;33m(\u001b[0m\u001b[0mkeras\u001b[0m\u001b[1;33m.\u001b[0m\u001b[0m__version__\u001b[0m\u001b[1;33m)\u001b[0m\u001b[1;33m\u001b[0m\u001b[1;33m\u001b[0m\u001b[0m\n",
      "\u001b[1;32mD:\\ProgramData\\Anaconda3\\envs\\tf\\lib\\site-packages\\tensorflow\\python\\util\\deprecation_wrapper.py\u001b[0m in \u001b[0;36m__getattr__\u001b[1;34m(self, name)\u001b[0m\n\u001b[0;32m    104\u001b[0m     \u001b[1;32mif\u001b[0m \u001b[0mname\u001b[0m\u001b[1;33m.\u001b[0m\u001b[0mstartswith\u001b[0m\u001b[1;33m(\u001b[0m\u001b[1;34m'_dw_'\u001b[0m\u001b[1;33m)\u001b[0m\u001b[1;33m:\u001b[0m\u001b[1;33m\u001b[0m\u001b[1;33m\u001b[0m\u001b[0m\n\u001b[0;32m    105\u001b[0m       \u001b[1;32mraise\u001b[0m \u001b[0mAttributeError\u001b[0m\u001b[1;33m(\u001b[0m\u001b[1;34m'Accessing local variables before they are created.'\u001b[0m\u001b[1;33m)\u001b[0m\u001b[1;33m\u001b[0m\u001b[1;33m\u001b[0m\u001b[0m\n\u001b[1;32m--> 106\u001b[1;33m     \u001b[0mattr\u001b[0m \u001b[1;33m=\u001b[0m \u001b[0mgetattr\u001b[0m\u001b[1;33m(\u001b[0m\u001b[0mself\u001b[0m\u001b[1;33m.\u001b[0m\u001b[0m_dw_wrapped_module\u001b[0m\u001b[1;33m,\u001b[0m \u001b[0mname\u001b[0m\u001b[1;33m)\u001b[0m\u001b[1;33m\u001b[0m\u001b[1;33m\u001b[0m\u001b[0m\n\u001b[0m\u001b[0;32m    107\u001b[0m     if (self._dw_warning_count < _PER_MODULE_WARNING_LIMIT and\n\u001b[0;32m    108\u001b[0m         name not in self._dw_deprecated_printed):\n",
      "\u001b[1;31mAttributeError\u001b[0m: module 'tensorflow._api.v1.config' has no attribute 'list_physical_devices'"
     ]
    }
   ],
   "source": [
    "#import tensorflow as tf\n",
    "#print(tf.__version__)\n",
    "#print(tf.config.list_physical_devices())\n",
    "#import keras\n",
    "#print(keras.__version__)"
   ]
  },
  {
   "cell_type": "code",
   "execution_count": 3,
   "id": "2e5d1547",
   "metadata": {},
   "outputs": [
    {
     "name": "stdout",
     "output_type": "stream",
     "text": [
      "D:\\Documents\\GitHub\\flatiron-data-science\\phase04\\project\\Pneumonia-detection-using-CNN\\Train_Test_Folder\\\n"
     ]
    }
   ],
   "source": [
    "import os, shutil\n",
    "\n",
    "data_path = os.path.join(os.path.abspath(os.getcwd()),'Train_Test_Folder\\\\')\n",
    "#data_path = os.path.join(os.path.abspath(os.getcwd()),'archive\\\\chest_xray')\n",
    "print(data_path)\n",
    "\n",
    "train_dir = os.path.join(data_path, 'train\\\\')\n",
    "test_dir = os.path.join(data_path, 'test\\\\')\n",
    "#val_dir = os.path.join(data_path, 'val\\\\')\n",
    "\n",
    "train_normal = os.path.join(train_dir, 'NORMAL\\\\')\n",
    "train_pneumonia = os.path.join(train_dir, 'PNEUMONIA\\\\')"
   ]
  },
  {
   "cell_type": "code",
   "execution_count": 4,
   "id": "3a55d6bd",
   "metadata": {},
   "outputs": [
    {
     "ename": "ModuleNotFoundError",
     "evalue": "No module named 'PIL'",
     "output_type": "error",
     "traceback": [
      "\u001b[1;31m---------------------------------------------------------------------------\u001b[0m",
      "\u001b[1;31mModuleNotFoundError\u001b[0m                       Traceback (most recent call last)",
      "\u001b[1;32m~\\AppData\\Local\\Temp\\ipykernel_8312\\2835166229.py\u001b[0m in \u001b[0;36m<module>\u001b[1;34m\u001b[0m\n\u001b[0;32m      1\u001b[0m \u001b[1;31m# Show a representative image\u001b[0m\u001b[1;33m\u001b[0m\u001b[1;33m\u001b[0m\u001b[1;33m\u001b[0m\u001b[0m\n\u001b[0;32m      2\u001b[0m \u001b[1;32mimport\u001b[0m \u001b[0mnumpy\u001b[0m \u001b[1;32mas\u001b[0m \u001b[0mnp\u001b[0m\u001b[1;33m\u001b[0m\u001b[1;33m\u001b[0m\u001b[0m\n\u001b[1;32m----> 3\u001b[1;33m \u001b[1;32mfrom\u001b[0m \u001b[0mPIL\u001b[0m \u001b[1;32mimport\u001b[0m \u001b[0mImage\u001b[0m\u001b[1;33m\u001b[0m\u001b[1;33m\u001b[0m\u001b[0m\n\u001b[0m\u001b[0;32m      4\u001b[0m \u001b[1;32mimport\u001b[0m \u001b[0mmatplotlib\u001b[0m\u001b[1;33m.\u001b[0m\u001b[0mpyplot\u001b[0m \u001b[1;32mas\u001b[0m \u001b[0mplt\u001b[0m\u001b[1;33m\u001b[0m\u001b[1;33m\u001b[0m\u001b[0m\n\u001b[0;32m      5\u001b[0m \u001b[1;33m\u001b[0m\u001b[0m\n",
      "\u001b[1;31mModuleNotFoundError\u001b[0m: No module named 'PIL'"
     ]
    }
   ],
   "source": [
    "# Show a representative image\n",
    "import numpy as np\n",
    "from PIL import Image\n",
    "import matplotlib.pyplot as plt\n",
    "\n",
    "print(f'Image number: {len(os.listdir(train_normal))}')\n",
    "rand_norm = np.random.randint(0, len(os.listdir(train_normal)))\n",
    "norm_img = os.listdir(train_normal)[rand_norm]\n",
    "print('normal picture title: ', norm_img)\n",
    "norm_img_address = train_normal+norm_img\n",
    "\n",
    "#Pneumonia\n",
    "rand_p = np.random.randint(0,len(os.listdir(train_pneumonia)))\n",
    "\n",
    "pneu_img =  os.listdir(train_pneumonia)[rand_norm]\n",
    "pneu_img_address = train_pneumonia+pneu_img\n",
    "print('pneumonia picture title:', pneu_img)\n",
    "\n",
    "# Load the image\n",
    "norm_load = Image.open(norm_img_address)\n",
    "pneu_load = Image.open(pneu_img_address)\n",
    "\n",
    "# Show the picture\n",
    "fig = plt.figure(figsize=(10,6))\n",
    "ax1 = fig.add_subplot(1,2,1)\n",
    "img_plot = plt.imshow(norm_load, cmap='gray')\n",
    "ax1.set_title('Normal')\n",
    "\n",
    "ax2 = fig.add_subplot(1, 2, 2)\n",
    "img_plot = plt.imshow(pneu_load, cmap='gray')\n",
    "ax2.set_title('Pneumonia')"
   ]
  },
  {
   "cell_type": "code",
   "execution_count": 7,
   "id": "023ebee5",
   "metadata": {},
   "outputs": [],
   "source": [
    "# is the normal and pneumonia data evently split?\n"
   ]
  },
  {
   "cell_type": "code",
   "execution_count": 5,
   "id": "1058ff1d",
   "metadata": {},
   "outputs": [
    {
     "ename": "ImportError",
     "evalue": "cannot import name 'image_dataset_from_directory' from 'tensorflow.keras.utils' (unknown location)",
     "output_type": "error",
     "traceback": [
      "\u001b[1;31m---------------------------------------------------------------------------\u001b[0m",
      "\u001b[1;31mImportError\u001b[0m                               Traceback (most recent call last)",
      "\u001b[1;32m~\\AppData\\Local\\Temp\\ipykernel_8312\\2019732758.py\u001b[0m in \u001b[0;36m<module>\u001b[1;34m\u001b[0m\n\u001b[0;32m      1\u001b[0m \u001b[1;31m# Import data into tensorflow Dataset object\u001b[0m\u001b[1;33m\u001b[0m\u001b[1;33m\u001b[0m\u001b[1;33m\u001b[0m\u001b[0m\n\u001b[1;32m----> 2\u001b[1;33m \u001b[1;32mfrom\u001b[0m \u001b[0mtensorflow\u001b[0m\u001b[1;33m.\u001b[0m\u001b[0mkeras\u001b[0m\u001b[1;33m.\u001b[0m\u001b[0mutils\u001b[0m \u001b[1;32mimport\u001b[0m \u001b[0mimage_dataset_from_directory\u001b[0m\u001b[1;33m\u001b[0m\u001b[1;33m\u001b[0m\u001b[0m\n\u001b[0m\u001b[0;32m      3\u001b[0m \u001b[1;32mimport\u001b[0m \u001b[0mtensorflow\u001b[0m \u001b[1;32mas\u001b[0m \u001b[0mtf\u001b[0m\u001b[1;33m\u001b[0m\u001b[1;33m\u001b[0m\u001b[0m\n",
      "\u001b[1;31mImportError\u001b[0m: cannot import name 'image_dataset_from_directory' from 'tensorflow.keras.utils' (unknown location)"
     ]
    }
   ],
   "source": [
    "# Import data into tensorflow Dataset object\n",
    "from tensorflow.keras.utils import image_dataset_from_directory\n",
    "import tensorflow as tf"
   ]
  },
  {
   "cell_type": "code",
   "execution_count": 9,
   "id": "7d4e9213",
   "metadata": {},
   "outputs": [
    {
     "name": "stdout",
     "output_type": "stream",
     "text": [
      "Found 4684 files belonging to 2 classes.\n",
      "Using 3748 files for training.\n",
      "Found 4684 files belonging to 2 classes.\n",
      "Using 936 files for validation.\n",
      "Found 1172 files belonging to 2 classes.\n",
      "Batches for testing --> tf.Tensor(37, shape=(), dtype=int64)\n",
      "Batches for validating --> tf.Tensor(30, shape=(), dtype=int64)\n",
      "Batches for training --> tf.Tensor(118, shape=(), dtype=int64)\n"
     ]
    }
   ],
   "source": [
    "img_height = 64\n",
    "img_width = 64\n",
    "rgb = 3\n",
    "grayscale = 1\n",
    "batch_size = 32\n",
    "\n",
    "train_ds = image_dataset_from_directory(train_dir,\n",
    "                                        color_mode='grayscale',\n",
    "                                        label_mode='binary',\n",
    "                                        validation_split=0.2,\n",
    "                                        subset='training',\n",
    "                                        seed=42,\n",
    "                                        #shuffle=False,\n",
    "                                        image_size=(img_height, img_width),\n",
    "                                        batch_size = batch_size)\n",
    "\n",
    "#A possible issue is that Keras validation_split uses the \"last x percent\" \n",
    "# of data as validation data without shuffling the data. \n",
    "# So if your data has a certain stratification, this stratification will \n",
    "# affect the validation set.\n",
    "val_ds = image_dataset_from_directory(train_dir,\n",
    "                                      validation_split=0.2,\n",
    "                                      color_mode='grayscale',\n",
    "                                      label_mode='binary',\n",
    "                                      subset=\"validation\",\n",
    "                                      seed=42,\n",
    "                                      #shuffle=False,\n",
    "                                      image_size=(img_height, img_width),\n",
    "                                      batch_size=batch_size)\n",
    "\n",
    "test_ds = image_dataset_from_directory(test_dir,\n",
    "                                       shuffle=False,\n",
    "                                       color_mode='grayscale',\n",
    "                                       label_mode='binary',\n",
    "                                       image_size=(img_height, img_width)\n",
    "                                      )\n",
    "\n",
    "print('Batches for testing -->', test_ds.cardinality())\n",
    "print('Batches for validating -->', val_ds.cardinality())\n",
    "print('Batches for training -->', train_ds.cardinality())"
   ]
  },
  {
   "cell_type": "code",
   "execution_count": 10,
   "id": "9e98d12c",
   "metadata": {},
   "outputs": [
    {
     "name": "stdout",
     "output_type": "stream",
     "text": [
      "['normal', 'pneumonia']\n",
      "(32, 64, 64, 1)\n",
      "(32, 1)\n"
     ]
    }
   ],
   "source": [
    "print(train_ds.class_names)\n",
    "for image_batch, labels_batch in train_ds:\n",
    "  print(image_batch.shape)\n",
    "  print(labels_batch.shape)\n",
    "  break"
   ]
  },
  {
   "cell_type": "code",
   "execution_count": 11,
   "id": "61310cea",
   "metadata": {},
   "outputs": [],
   "source": [
    "# Configure the dataset for performance\n",
    "AUTOTUNE = tf.data.AUTOTUNE\n",
    "\n",
    "# Dataset.cache keeps the images in memory after they're loaded off disk during the first epoch. \n",
    "# This will ensure the dataset does not become a bottleneck while training your model.\n",
    "# Dataset.prefetch overlaps data preprocessing and model execution while training.\n",
    "train_ds = train_ds.cache().shuffle(1000).prefetch(buffer_size=AUTOTUNE)\n",
    "val_ds = val_ds.cache().prefetch(buffer_size=AUTOTUNE)\n",
    "test_ds = test_ds.cache().prefetch(buffer_size=AUTOTUNE)"
   ]
  },
  {
   "cell_type": "code",
   "execution_count": 12,
   "id": "c2815916",
   "metadata": {},
   "outputs": [],
   "source": [
    "# libraries for neural networks\n",
    "from tensorflow import keras\n",
    "from tensorflow.keras.models import Sequential\n",
    "from keras.layers import Conv2D\n",
    "from keras.layers import MaxPooling2D\n",
    "from keras.layers import Flatten\n",
    "from keras.layers import Dense\n",
    "from keras.layers import Rescaling\n",
    "from keras.metrics import SpecificityAtSensitivity"
   ]
  },
  {
   "cell_type": "code",
   "execution_count": 15,
   "id": "2f8427a2",
   "metadata": {},
   "outputs": [],
   "source": [
    "def plot_fun(model):\n",
    "    acc = model.history['accuracy']\n",
    "    val_acc = model.history['val_accuracy']\n",
    "\n",
    "    loss = model.history['loss']\n",
    "    val_loss = model.history['val_loss']\n",
    "\n",
    "    epochs_range = range(epochs)\n",
    "\n",
    "    plt.figure(figsize=(12, 4))\n",
    "    plt.subplot(1, 2, 1)\n",
    "    plt.plot(epochs_range, acc, 'g-', label='Training Accuracy')\n",
    "    plt.plot(epochs_range, val_acc, 'r-', label='Validation Accuracy')\n",
    "    plt.legend(loc='lower right')\n",
    "    plt.title('Training and Validation Accuracy')\n",
    "\n",
    "    plt.subplot(1, 2, 2)\n",
    "    plt.plot(epochs_range, loss, 'g-', label='Training Loss')\n",
    "    plt.plot(epochs_range, val_loss, 'r-', label='Validation Loss')\n",
    "    plt.legend(loc='upper right')\n",
    "    plt.title('Training and Validation Loss')\n",
    "    plt.show()\n",
    "\n",
    "#plot_fun(baseline_cnn_fit)\n",
    "# Visualize training results\n",
    "#plot_fun(cnn_model)"
   ]
  },
  {
   "cell_type": "code",
   "execution_count": 13,
   "id": "1969bae8",
   "metadata": {},
   "outputs": [
    {
     "name": "stdout",
     "output_type": "stream",
     "text": [
      "Model: \"model\"\n",
      "_________________________________________________________________\n",
      " Layer (type)                Output Shape              Param #   \n",
      "=================================================================\n",
      " input_1 (InputLayer)        [(None, 64, 64, 1)]       0         \n",
      "                                                                 \n",
      " conv2d (Conv2D)             (None, 62, 62, 32)        320       \n",
      "                                                                 \n",
      " max_pooling2d (MaxPooling2D  (None, 31, 31, 32)       0         \n",
      " )                                                               \n",
      "                                                                 \n",
      " conv2d_1 (Conv2D)           (None, 29, 29, 64)        18496     \n",
      "                                                                 \n",
      " max_pooling2d_1 (MaxPooling  (None, 14, 14, 64)       0         \n",
      " 2D)                                                             \n",
      "                                                                 \n",
      " conv2d_2 (Conv2D)           (None, 12, 12, 128)       73856     \n",
      "                                                                 \n",
      " flatten (Flatten)           (None, 18432)             0         \n",
      "                                                                 \n",
      " dense (Dense)               (None, 1)                 18433     \n",
      "                                                                 \n",
      "=================================================================\n",
      "Total params: 111,105\n",
      "Trainable params: 111,105\n",
      "Non-trainable params: 0\n",
      "_________________________________________________________________\n",
      "Epoch 1/20\n",
      "118/118 [==============================] - 57s 141ms/step - loss: 1.2834 - accuracy: 0.8565 - recall: 0.9084 - specificity_at_sensitivity: 0.9304 - val_loss: 0.1583 - val_accuracy: 0.9476 - val_recall: 0.9638 - val_specificity_at_sensitivity: 0.9959\n",
      "Epoch 2/20\n",
      "118/118 [==============================] - 3s 29ms/step - loss: 0.1693 - accuracy: 0.9320 - recall: 0.9578 - specificity_at_sensitivity: 0.9951 - val_loss: 0.1971 - val_accuracy: 0.9263 - val_recall: 0.9174 - val_specificity_at_sensitivity: 1.0000\n",
      "Epoch 3/20\n",
      "118/118 [==============================] - 4s 31ms/step - loss: 0.1244 - accuracy: 0.9530 - recall: 0.9688 - specificity_at_sensitivity: 0.9980 - val_loss: 0.1259 - val_accuracy: 0.9562 - val_recall: 0.9725 - val_specificity_at_sensitivity: 0.9959\n",
      "Epoch 4/20\n",
      "118/118 [==============================] - 4s 30ms/step - loss: 0.1016 - accuracy: 0.9640 - recall: 0.9780 - specificity_at_sensitivity: 0.9971 - val_loss: 0.1370 - val_accuracy: 0.9573 - val_recall: 0.9754 - val_specificity_at_sensitivity: 0.9837\n",
      "Epoch 5/20\n",
      "118/118 [==============================] - 3s 29ms/step - loss: 0.0959 - accuracy: 0.9629 - recall: 0.9743 - specificity_at_sensitivity: 0.9971 - val_loss: 0.2223 - val_accuracy: 0.9412 - val_recall: 0.9899 - val_specificity_at_sensitivity: 0.9553\n",
      "Epoch 6/20\n",
      "118/118 [==============================] - 3s 29ms/step - loss: 0.0894 - accuracy: 0.9696 - recall: 0.9817 - specificity_at_sensitivity: 0.9941 - val_loss: 0.1463 - val_accuracy: 0.9476 - val_recall: 0.9580 - val_specificity_at_sensitivity: 0.9919\n",
      "Epoch 7/20\n",
      "118/118 [==============================] - 4s 31ms/step - loss: 0.0703 - accuracy: 0.9776 - recall: 0.9861 - specificity_at_sensitivity: 0.9990 - val_loss: 0.1481 - val_accuracy: 0.9530 - val_recall: 0.9768 - val_specificity_at_sensitivity: 0.9878\n",
      "Epoch 8/20\n",
      "118/118 [==============================] - 4s 30ms/step - loss: 0.0581 - accuracy: 0.9792 - recall: 0.9864 - specificity_at_sensitivity: 0.9971 - val_loss: 0.1693 - val_accuracy: 0.9402 - val_recall: 0.9536 - val_specificity_at_sensitivity: 0.9959\n",
      "Epoch 9/20\n",
      "118/118 [==============================] - 4s 30ms/step - loss: 0.0546 - accuracy: 0.9816 - recall: 0.9875 - specificity_at_sensitivity: 0.9990 - val_loss: 0.1509 - val_accuracy: 0.9551 - val_recall: 0.9696 - val_specificity_at_sensitivity: 0.9756\n",
      "Epoch 10/20\n",
      "118/118 [==============================] - 4s 31ms/step - loss: 0.0363 - accuracy: 0.9880 - recall: 0.9927 - specificity_at_sensitivity: 0.9990 - val_loss: 0.1570 - val_accuracy: 0.9583 - val_recall: 0.9681 - val_specificity_at_sensitivity: 0.9797\n",
      "Epoch 11/20\n",
      "118/118 [==============================] - 4s 31ms/step - loss: 0.0367 - accuracy: 0.9893 - recall: 0.9941 - specificity_at_sensitivity: 0.9980 - val_loss: 0.2363 - val_accuracy: 0.9370 - val_recall: 0.9304 - val_specificity_at_sensitivity: 0.9919\n",
      "Epoch 12/20\n",
      "118/118 [==============================] - 4s 30ms/step - loss: 0.0286 - accuracy: 0.9909 - recall: 0.9952 - specificity_at_sensitivity: 0.9980 - val_loss: 0.1686 - val_accuracy: 0.9498 - val_recall: 0.9609 - val_specificity_at_sensitivity: 0.9878\n",
      "Epoch 13/20\n",
      "118/118 [==============================] - 4s 32ms/step - loss: 0.0323 - accuracy: 0.9883 - recall: 0.9916 - specificity_at_sensitivity: 1.0000 - val_loss: 0.1730 - val_accuracy: 0.9519 - val_recall: 0.9580 - val_specificity_at_sensitivity: 0.9756\n",
      "Epoch 14/20\n",
      "118/118 [==============================] - 5s 41ms/step - loss: 0.0298 - accuracy: 0.9901 - recall: 0.9938 - specificity_at_sensitivity: 0.9990 - val_loss: 0.2097 - val_accuracy: 0.9391 - val_recall: 0.9391 - val_specificity_at_sensitivity: 0.9837\n",
      "Epoch 15/20\n",
      "118/118 [==============================] - 4s 32ms/step - loss: 0.0398 - accuracy: 0.9848 - recall: 0.9894 - specificity_at_sensitivity: 1.0000 - val_loss: 0.1831 - val_accuracy: 0.9541 - val_recall: 0.9797 - val_specificity_at_sensitivity: 0.9634\n",
      "Epoch 16/20\n",
      "118/118 [==============================] - 4s 34ms/step - loss: 0.0280 - accuracy: 0.9891 - recall: 0.9934 - specificity_at_sensitivity: 0.9990 - val_loss: 0.2391 - val_accuracy: 0.9487 - val_recall: 0.9681 - val_specificity_at_sensitivity: 0.9593\n",
      "Epoch 17/20\n",
      "118/118 [==============================] - 4s 35ms/step - loss: 0.0256 - accuracy: 0.9909 - recall: 0.9930 - specificity_at_sensitivity: 0.9990 - val_loss: 0.2725 - val_accuracy: 0.9338 - val_recall: 0.9304 - val_specificity_at_sensitivity: 0.9797\n",
      "Epoch 18/20\n",
      "118/118 [==============================] - 5s 38ms/step - loss: 0.0092 - accuracy: 0.9979 - recall: 0.9993 - specificity_at_sensitivity: 1.0000 - val_loss: 0.2377 - val_accuracy: 0.9562 - val_recall: 0.9623 - val_specificity_at_sensitivity: 0.9715\n",
      "Epoch 19/20\n",
      "118/118 [==============================] - 5s 41ms/step - loss: 0.0053 - accuracy: 0.9984 - recall: 0.9989 - specificity_at_sensitivity: 1.0000 - val_loss: 0.2269 - val_accuracy: 0.9541 - val_recall: 0.9638 - val_specificity_at_sensitivity: 0.9715\n",
      "Epoch 20/20\n",
      "118/118 [==============================] - 4s 32ms/step - loss: 0.0071 - accuracy: 0.9984 - recall: 0.9993 - specificity_at_sensitivity: 1.0000 - val_loss: 0.2234 - val_accuracy: 0.9498 - val_recall: 0.9638 - val_specificity_at_sensitivity: 0.9593\n"
     ]
    }
   ],
   "source": [
    "#import tensorflow.keras import layers\n",
    "\n",
    "# Baseline model\n",
    "inputs = keras.Input(shape=(img_height, img_width, grayscale))\n",
    "x = Conv2D(filters=32, kernel_size=3, activation='relu')(inputs)\n",
    "x = MaxPooling2D(pool_size=2)(x)\n",
    "x = Conv2D(filters=64, kernel_size=3, activation='relu')(x)\n",
    "x = MaxPooling2D(pool_size=2)(x)\n",
    "x = Conv2D(filters=128, kernel_size=3, activation='relu')(x)\n",
    "x = Flatten()(x)\n",
    "outputs = Dense(1, activation='sigmoid')(x)\n",
    "model_baseline = keras.Model(inputs=inputs, outputs=outputs)\n",
    "\n",
    "# Compile the Neural network\n",
    "model_baseline.compile(optimizer = 'adam', \n",
    "                        loss = 'binary_crossentropy',\n",
    "                        metrics = ['accuracy', \n",
    "                                   keras.metrics.Recall(),\n",
    "                                   keras.metrics.SpecificityAtSensitivity(0.5)])\n",
    "\n",
    "# Summary\n",
    "model_baseline.summary()\n",
    "\n",
    "# Fit model\n",
    "epochs=20\n",
    "model_baseline_fit = model_baseline.fit(train_ds,\n",
    "                                         epochs=epochs,\n",
    "                                         validation_data = val_ds,\n",
    "                                         batch_size=64)"
   ]
  },
  {
   "cell_type": "code",
   "execution_count": 17,
   "id": "b0dc39d3",
   "metadata": {},
   "outputs": [
    {
     "data": {
      "image/png": "[encoded data removed]",
      "text/plain": [
       "<Figure size 864x288 with 2 Axes>"
      ]
     },
     "metadata": {
      "needs_background": "light"
     },
     "output_type": "display_data"
    }
   ],
   "source": [
    "plot_fun(model_baseline_fit)"
   ]
  },
  {
   "cell_type": "code",
   "execution_count": 46,
   "id": "9af40087",
   "metadata": {},
   "outputs": [
    {
     "name": "stdout",
     "output_type": "stream",
     "text": [
      "Model: \"sequential_8\"\n",
      "_________________________________________________________________\n",
      " Layer (type)                Output Shape              Param #   \n",
      "=================================================================\n",
      " rescaling_8 (Rescaling)     (None, 64, 64, 1)         0         \n",
      "                                                                 \n",
      " conv2d_14 (Conv2D)          (None, 64, 64, 32)        320       \n",
      "                                                                 \n",
      " max_pooling2d_14 (MaxPoolin  (None, 32, 32, 32)       0         \n",
      " g2D)                                                            \n",
      "                                                                 \n",
      " flatten_8 (Flatten)         (None, 32768)             0         \n",
      "                                                                 \n",
      " dense_13 (Dense)            (None, 1)                 32769     \n",
      "                                                                 \n",
      "=================================================================\n",
      "Total params: 33,089\n",
      "Trainable params: 33,089\n",
      "Non-trainable params: 0\n",
      "_________________________________________________________________\n",
      "Epoch 1/20\n",
      "118/118 [==============================] - 4s 19ms/step - loss: 0.3869 - accuracy: 0.8314 - precision_8: 0.8503 - recall_8: 0.9326 - specificity_at_sensitivity_8: 0.9245 - sensitivity_at_specificity_8: 0.9641 - val_loss: 0.2346 - val_accuracy: 0.9145 - val_precision_8: 0.9024 - val_recall_8: 0.9913 - val_specificity_at_sensitivity_8: 0.9837 - val_sensitivity_at_specificity_8: 0.9971\n",
      "Epoch 2/20\n",
      "118/118 [==============================] - 1s 12ms/step - loss: 0.2039 - accuracy: 0.9232 - precision_8: 0.9335 - recall_8: 0.9630 - specificity_at_sensitivity_8: 0.9961 - sensitivity_at_specificity_8: 0.9930 - val_loss: 0.1621 - val_accuracy: 0.9476 - val_precision_8: 0.9559 - val_recall_8: 0.9739 - val_specificity_at_sensitivity_8: 0.9959 - val_sensitivity_at_specificity_8: 1.0000\n",
      "Epoch 3/20\n",
      "118/118 [==============================] - 1s 12ms/step - loss: 0.1674 - accuracy: 0.9370 - precision_8: 0.9498 - recall_8: 0.9644 - specificity_at_sensitivity_8: 0.9971 - sensitivity_at_specificity_8: 0.9960 - val_loss: 0.1537 - val_accuracy: 0.9434 - val_precision_8: 0.9583 - val_recall_8: 0.9652 - val_specificity_at_sensitivity_8: 1.0000 - val_sensitivity_at_specificity_8: 1.0000\n",
      "Epoch 4/20\n",
      "118/118 [==============================] - 1s 12ms/step - loss: 0.1409 - accuracy: 0.9480 - precision_8: 0.9594 - recall_8: 0.9696 - specificity_at_sensitivity_8: 0.9971 - sensitivity_at_specificity_8: 0.9989 - val_loss: 0.1554 - val_accuracy: 0.9487 - val_precision_8: 0.9471 - val_recall_8: 0.9855 - val_specificity_at_sensitivity_8: 1.0000 - val_sensitivity_at_specificity_8: 1.0000\n",
      "Epoch 5/20\n",
      "118/118 [==============================] - 1s 13ms/step - loss: 0.1446 - accuracy: 0.9448 - precision_8: 0.9552 - recall_8: 0.9696 - specificity_at_sensitivity_8: 0.9980 - sensitivity_at_specificity_8: 0.9982 - val_loss: 0.1412 - val_accuracy: 0.9487 - val_precision_8: 0.9612 - val_recall_8: 0.9696 - val_specificity_at_sensitivity_8: 1.0000 - val_sensitivity_at_specificity_8: 1.0000\n",
      "Epoch 6/20\n",
      "118/118 [==============================] - 1s 13ms/step - loss: 0.1302 - accuracy: 0.9506 - precision_8: 0.9625 - recall_8: 0.9699 - specificity_at_sensitivity_8: 0.9971 - sensitivity_at_specificity_8: 1.0000 - val_loss: 0.1435 - val_accuracy: 0.9530 - val_precision_8: 0.9524 - val_recall_8: 0.9855 - val_specificity_at_sensitivity_8: 1.0000 - val_sensitivity_at_specificity_8: 1.0000\n",
      "Epoch 7/20\n",
      "118/118 [==============================] - 1s 12ms/step - loss: 0.1206 - accuracy: 0.9565 - precision_8: 0.9659 - recall_8: 0.9747 - specificity_at_sensitivity_8: 0.9980 - sensitivity_at_specificity_8: 0.9982 - val_loss: 0.1412 - val_accuracy: 0.9455 - val_precision_8: 0.9637 - val_recall_8: 0.9623 - val_specificity_at_sensitivity_8: 1.0000 - val_sensitivity_at_specificity_8: 1.0000\n",
      "Epoch 8/20\n",
      "118/118 [==============================] - 2s 13ms/step - loss: 0.1172 - accuracy: 0.9581 - precision_8: 0.9659 - recall_8: 0.9769 - specificity_at_sensitivity_8: 0.9971 - sensitivity_at_specificity_8: 0.9996 - val_loss: 0.1368 - val_accuracy: 0.9476 - val_precision_8: 0.9652 - val_recall_8: 0.9638 - val_specificity_at_sensitivity_8: 1.0000 - val_sensitivity_at_specificity_8: 1.0000\n",
      "Epoch 9/20\n",
      "118/118 [==============================] - 1s 12ms/step - loss: 0.1108 - accuracy: 0.9602 - precision_8: 0.9708 - recall_8: 0.9747 - specificity_at_sensitivity_8: 0.9971 - sensitivity_at_specificity_8: 1.0000 - val_loss: 0.1324 - val_accuracy: 0.9530 - val_precision_8: 0.9575 - val_recall_8: 0.9797 - val_specificity_at_sensitivity_8: 1.0000 - val_sensitivity_at_specificity_8: 1.0000\n",
      "Epoch 10/20\n",
      "118/118 [==============================] - 1s 12ms/step - loss: 0.1045 - accuracy: 0.9613 - precision_8: 0.9691 - recall_8: 0.9780 - specificity_at_sensitivity_8: 0.9980 - sensitivity_at_specificity_8: 0.9996 - val_loss: 0.1341 - val_accuracy: 0.9509 - val_precision_8: 0.9721 - val_recall_8: 0.9609 - val_specificity_at_sensitivity_8: 1.0000 - val_sensitivity_at_specificity_8: 1.0000\n",
      "Epoch 11/20\n",
      "118/118 [==============================] - 2s 13ms/step - loss: 0.0997 - accuracy: 0.9642 - precision_8: 0.9713 - recall_8: 0.9798 - specificity_at_sensitivity_8: 0.9990 - sensitivity_at_specificity_8: 1.0000 - val_loss: 0.1541 - val_accuracy: 0.9402 - val_precision_8: 0.9760 - val_recall_8: 0.9420 - val_specificity_at_sensitivity_8: 1.0000 - val_sensitivity_at_specificity_8: 1.0000\n",
      "Epoch 12/20\n",
      "118/118 [==============================] - 1s 12ms/step - loss: 0.0968 - accuracy: 0.9656 - precision_8: 0.9744 - recall_8: 0.9784 - specificity_at_sensitivity_8: 1.0000 - sensitivity_at_specificity_8: 1.0000 - val_loss: 0.1346 - val_accuracy: 0.9530 - val_precision_8: 0.9708 - val_recall_8: 0.9652 - val_specificity_at_sensitivity_8: 0.9959 - val_sensitivity_at_specificity_8: 1.0000\n",
      "Epoch 13/20\n",
      "118/118 [==============================] - 2s 13ms/step - loss: 0.0916 - accuracy: 0.9672 - precision_8: 0.9745 - recall_8: 0.9806 - specificity_at_sensitivity_8: 1.0000 - sensitivity_at_specificity_8: 1.0000 - val_loss: 0.1634 - val_accuracy: 0.9444 - val_precision_8: 0.9382 - val_recall_8: 0.9899 - val_specificity_at_sensitivity_8: 0.9837 - val_sensitivity_at_specificity_8: 1.0000\n",
      "Epoch 14/20\n",
      "118/118 [==============================] - 2s 13ms/step - loss: 0.0903 - accuracy: 0.9701 - precision_8: 0.9753 - recall_8: 0.9839 - specificity_at_sensitivity_8: 0.9980 - sensitivity_at_specificity_8: 1.0000 - val_loss: 0.1400 - val_accuracy: 0.9498 - val_precision_8: 0.9749 - val_recall_8: 0.9565 - val_specificity_at_sensitivity_8: 0.9959 - val_sensitivity_at_specificity_8: 1.0000\n",
      "Epoch 15/20\n",
      "118/118 [==============================] - 1s 13ms/step - loss: 0.0844 - accuracy: 0.9720 - precision_8: 0.9792 - recall_8: 0.9824 - specificity_at_sensitivity_8: 0.9980 - sensitivity_at_specificity_8: 1.0000 - val_loss: 0.1465 - val_accuracy: 0.9455 - val_precision_8: 0.9762 - val_recall_8: 0.9493 - val_specificity_at_sensitivity_8: 1.0000 - val_sensitivity_at_specificity_8: 1.0000\n",
      "Epoch 16/20\n",
      "118/118 [==============================] - 1s 12ms/step - loss: 0.0830 - accuracy: 0.9728 - precision_8: 0.9782 - recall_8: 0.9846 - specificity_at_sensitivity_8: 0.9980 - sensitivity_at_specificity_8: 0.9996 - val_loss: 0.1310 - val_accuracy: 0.9551 - val_precision_8: 0.9642 - val_recall_8: 0.9754 - val_specificity_at_sensitivity_8: 1.0000 - val_sensitivity_at_specificity_8: 1.0000\n",
      "Epoch 17/20\n",
      "118/118 [==============================] - 2s 14ms/step - loss: 0.0797 - accuracy: 0.9741 - precision_8: 0.9775 - recall_8: 0.9872 - specificity_at_sensitivity_8: 0.9990 - sensitivity_at_specificity_8: 1.0000 - val_loss: 0.1505 - val_accuracy: 0.9519 - val_precision_8: 0.9485 - val_recall_8: 0.9884 - val_specificity_at_sensitivity_8: 0.9837 - val_sensitivity_at_specificity_8: 1.0000\n",
      "Epoch 18/20\n",
      "118/118 [==============================] - 2s 15ms/step - loss: 0.0715 - accuracy: 0.9760 - precision_8: 0.9814 - recall_8: 0.9857 - specificity_at_sensitivity_8: 1.0000 - sensitivity_at_specificity_8: 1.0000 - val_loss: 0.1275 - val_accuracy: 0.9573 - val_precision_8: 0.9710 - val_recall_8: 0.9710 - val_specificity_at_sensitivity_8: 1.0000 - val_sensitivity_at_specificity_8: 1.0000\n"
     ]
    },
    {
     "name": "stdout",
     "output_type": "stream",
     "text": [
      "Epoch 19/20\n",
      "118/118 [==============================] - 2s 13ms/step - loss: 0.0795 - accuracy: 0.9728 - precision_8: 0.9785 - recall_8: 0.9842 - specificity_at_sensitivity_8: 0.9990 - sensitivity_at_specificity_8: 0.9996 - val_loss: 0.1305 - val_accuracy: 0.9562 - val_precision_8: 0.9656 - val_recall_8: 0.9754 - val_specificity_at_sensitivity_8: 1.0000 - val_sensitivity_at_specificity_8: 1.0000\n",
      "Epoch 20/20\n",
      "118/118 [==============================] - 2s 13ms/step - loss: 0.0681 - accuracy: 0.9771 - precision_8: 0.9825 - recall_8: 0.9861 - specificity_at_sensitivity_8: 0.9990 - sensitivity_at_specificity_8: 1.0000 - val_loss: 0.1382 - val_accuracy: 0.9455 - val_precision_8: 0.9705 - val_recall_8: 0.9551 - val_specificity_at_sensitivity_8: 1.0000 - val_sensitivity_at_specificity_8: 1.0000\n"
     ]
    }
   ],
   "source": [
    "# CNN model\n",
    "cnn = Sequential()\n",
    "\n",
    "# Rescaling\n",
    "cnn.add(Rescaling(1./255, input_shape=(img_height, img_width, grayscale)))\n",
    "\n",
    "#Convolution\n",
    "cnn.add(Conv2D(32, (3, 3), \n",
    "               padding='same',\n",
    "               activation=\"relu\", \n",
    "               input_shape=(img_height, img_width, grayscale)))\n",
    "\n",
    "#Pooling\n",
    "cnn.add(MaxPooling2D(pool_size = (2, 2)))\n",
    "\n",
    "# 2nd Convolution\n",
    "#cnn.add(Conv2D(32, (3, 3), activation=\"relu\"))\n",
    "\n",
    "# 2nd Pooling layer\n",
    "#cnn.add(MaxPooling2D(pool_size = (2, 2)))\n",
    "\n",
    "# Flatten the layer\n",
    "cnn.add(Flatten())\n",
    "\n",
    "# Fully Connected Layers\n",
    "#cnn.add(Dense(activation = 'relu', units = 128))\n",
    "cnn.add(Dense(activation = 'sigmoid', units = 1))\n",
    "\n",
    "# Compile the Neural network\n",
    "cnn.compile(optimizer = 'adam', \n",
    "            loss = 'binary_crossentropy',\n",
    "            metrics = ['accuracy', \n",
    "                       keras.metrics.Precision(),\n",
    "                       keras.metrics.Recall(),\n",
    "                       keras.metrics.SpecificityAtSensitivity(0.5),\n",
    "                       keras.metrics.SensitivityAtSpecificity(0.5)])\n",
    "\n",
    "# Summary\n",
    "cnn.summary()\n",
    "\n",
    "# Fit model\n",
    "epochs=20\n",
    "cnn_model = cnn.fit(train_ds,\n",
    "                    #steps_per_epoch = 163,\n",
    "                    epochs=epochs,\n",
    "                    validation_data = val_ds)"
   ]
  },
  {
   "cell_type": "code",
   "execution_count": null,
   "id": "2e8455dd",
   "metadata": {},
   "outputs": [],
   "source": [
    "# Discussion 5 epochs"
   ]
  },
  {
   "cell_type": "code",
   "execution_count": 23,
   "id": "2b6e9d55",
   "metadata": {},
   "outputs": [
    {
     "name": "stdout",
     "output_type": "stream",
     "text": [
      "Model: \"sequential_3\"\n",
      "_________________________________________________________________\n",
      " Layer (type)                Output Shape              Param #   \n",
      "=================================================================\n",
      " rescaling_3 (Rescaling)     (None, 64, 64, 1)         0         \n",
      "                                                                 \n",
      " conv2d_5 (Conv2D)           (None, 64, 64, 32)        320       \n",
      "                                                                 \n",
      " max_pooling2d_5 (MaxPooling  (None, 32, 32, 32)       0         \n",
      " 2D)                                                             \n",
      "                                                                 \n",
      " flatten_3 (Flatten)         (None, 32768)             0         \n",
      "                                                                 \n",
      " dense_5 (Dense)             (None, 128)               4194432   \n",
      "                                                                 \n",
      " sigmoid (Dense)             (None, 1)                 129       \n",
      "                                                                 \n",
      "=================================================================\n",
      "Total params: 4,194,881\n",
      "Trainable params: 4,194,881\n",
      "Non-trainable params: 0\n",
      "_________________________________________________________________\n",
      "Epoch 1/20\n"
     ]
    },
    {
     "ename": "InvalidArgumentError",
     "evalue": "Graph execution error:\n\nDetected at node 'assert_greater_equal/Assert/AssertGuard/Assert' defined at (most recent call last):\n    File \"D:\\ProgramData\\Anaconda3\\envs\\tf\\lib\\runpy.py\", line 196, in _run_module_as_main\n      return _run_code(code, main_globals, None,\n    File \"D:\\ProgramData\\Anaconda3\\envs\\tf\\lib\\runpy.py\", line 86, in _run_code\n      exec(code, run_globals)\n    File \"D:\\ProgramData\\Anaconda3\\envs\\tf\\lib\\site-packages\\ipykernel_launcher.py\", line 16, in <module>\n      app.launch_new_instance()\n    File \"D:\\ProgramData\\Anaconda3\\envs\\tf\\lib\\site-packages\\traitlets\\config\\application.py\", line 846, in launch_instance\n      app.start()\n    File \"D:\\ProgramData\\Anaconda3\\envs\\tf\\lib\\site-packages\\ipykernel\\kernelapp.py\", line 677, in start\n      self.io_loop.start()\n    File \"D:\\ProgramData\\Anaconda3\\envs\\tf\\lib\\site-packages\\tornado\\platform\\asyncio.py\", line 199, in start\n      self.asyncio_loop.run_forever()\n    File \"D:\\ProgramData\\Anaconda3\\envs\\tf\\lib\\asyncio\\base_events.py\", line 600, in run_forever\n      self._run_once()\n    File \"D:\\ProgramData\\Anaconda3\\envs\\tf\\lib\\asyncio\\base_events.py\", line 1896, in _run_once\n      handle._run()\n    File \"D:\\ProgramData\\Anaconda3\\envs\\tf\\lib\\asyncio\\events.py\", line 80, in _run\n      self._context.run(self._callback, *self._args)\n    File \"D:\\ProgramData\\Anaconda3\\envs\\tf\\lib\\site-packages\\ipykernel\\kernelbase.py\", line 471, in dispatch_queue\n      await self.process_one()\n    File \"D:\\ProgramData\\Anaconda3\\envs\\tf\\lib\\site-packages\\ipykernel\\kernelbase.py\", line 460, in process_one\n      await dispatch(*args)\n    File \"D:\\ProgramData\\Anaconda3\\envs\\tf\\lib\\site-packages\\ipykernel\\kernelbase.py\", line 367, in dispatch_shell\n      await result\n    File \"D:\\ProgramData\\Anaconda3\\envs\\tf\\lib\\site-packages\\ipykernel\\kernelbase.py\", line 662, in execute_request\n      reply_content = await reply_content\n    File \"D:\\ProgramData\\Anaconda3\\envs\\tf\\lib\\site-packages\\ipykernel\\ipkernel.py\", line 360, in do_execute\n      res = shell.run_cell(code, store_history=store_history, silent=silent)\n    File \"D:\\ProgramData\\Anaconda3\\envs\\tf\\lib\\site-packages\\ipykernel\\zmqshell.py\", line 532, in run_cell\n      return super().run_cell(*args, **kwargs)\n    File \"D:\\ProgramData\\Anaconda3\\envs\\tf\\lib\\site-packages\\IPython\\core\\interactiveshell.py\", line 2880, in run_cell\n      result = self._run_cell(\n    File \"D:\\ProgramData\\Anaconda3\\envs\\tf\\lib\\site-packages\\IPython\\core\\interactiveshell.py\", line 2935, in _run_cell\n      return runner(coro)\n    File \"D:\\ProgramData\\Anaconda3\\envs\\tf\\lib\\site-packages\\IPython\\core\\async_helpers.py\", line 129, in _pseudo_sync_runner\n      coro.send(None)\n    File \"D:\\ProgramData\\Anaconda3\\envs\\tf\\lib\\site-packages\\IPython\\core\\interactiveshell.py\", line 3134, in run_cell_async\n      has_raised = await self.run_ast_nodes(code_ast.body, cell_name,\n    File \"D:\\ProgramData\\Anaconda3\\envs\\tf\\lib\\site-packages\\IPython\\core\\interactiveshell.py\", line 3337, in run_ast_nodes\n      if await self.run_code(code, result, async_=asy):\n    File \"D:\\ProgramData\\Anaconda3\\envs\\tf\\lib\\site-packages\\IPython\\core\\interactiveshell.py\", line 3397, in run_code\n      exec(code_obj, self.user_global_ns, self.user_ns)\n    File \"C:\\Users\\kevin\\AppData\\Local\\Temp\\ipykernel_13064\\3856174219.py\", line 38, in <cell line: 38>\n      baseline_cnn_fit = baseline_cnn.fit(train_ds,\n    File \"D:\\ProgramData\\Anaconda3\\envs\\tf\\lib\\site-packages\\keras\\utils\\traceback_utils.py\", line 64, in error_handler\n      return fn(*args, **kwargs)\n    File \"D:\\ProgramData\\Anaconda3\\envs\\tf\\lib\\site-packages\\keras\\engine\\training.py\", line 1409, in fit\n      tmp_logs = self.train_function(iterator)\n    File \"D:\\ProgramData\\Anaconda3\\envs\\tf\\lib\\site-packages\\keras\\engine\\training.py\", line 1051, in train_function\n      return step_function(self, iterator)\n    File \"D:\\ProgramData\\Anaconda3\\envs\\tf\\lib\\site-packages\\keras\\engine\\training.py\", line 1040, in step_function\n      outputs = model.distribute_strategy.run(run_step, args=(data,))\n    File \"D:\\ProgramData\\Anaconda3\\envs\\tf\\lib\\site-packages\\keras\\engine\\training.py\", line 1030, in run_step\n      outputs = model.train_step(data)\n    File \"D:\\ProgramData\\Anaconda3\\envs\\tf\\lib\\site-packages\\keras\\engine\\training.py\", line 894, in train_step\n      return self.compute_metrics(x, y, y_pred, sample_weight)\n    File \"D:\\ProgramData\\Anaconda3\\envs\\tf\\lib\\site-packages\\keras\\engine\\training.py\", line 987, in compute_metrics\n      self.compiled_metrics.update_state(y, y_pred, sample_weight)\n    File \"D:\\ProgramData\\Anaconda3\\envs\\tf\\lib\\site-packages\\keras\\engine\\compile_utils.py\", line 501, in update_state\n      metric_obj.update_state(y_t, y_p, sample_weight=mask)\n    File \"D:\\ProgramData\\Anaconda3\\envs\\tf\\lib\\site-packages\\keras\\utils\\metrics_utils.py\", line 70, in decorated\n      update_op = update_state_fn(*args, **kwargs)\n    File \"D:\\ProgramData\\Anaconda3\\envs\\tf\\lib\\site-packages\\keras\\metrics\\base_metric.py\", line 140, in update_state_fn\n      return ag_update_state(*args, **kwargs)\n    File \"D:\\ProgramData\\Anaconda3\\envs\\tf\\lib\\site-packages\\keras\\metrics\\metrics.py\", line 818, in update_state\n      return metrics_utils.update_confusion_matrix_variables(\n    File \"D:\\ProgramData\\Anaconda3\\envs\\tf\\lib\\site-packages\\keras\\utils\\metrics_utils.py\", line 602, in update_confusion_matrix_variables\n      tf.debugging.assert_greater_equal(\nNode: 'assert_greater_equal/Assert/AssertGuard/Assert'\nassertion failed: [predictions must be >= 0] [Condition x >= y did not hold element-wise:] [x (sequential_3/sigmoid/BiasAdd:0) = ] [[-0.155957013][-0.128160834][-0.132769421]...] [y (Cast_6/x:0) = ] [0]\n\t [[{{node assert_greater_equal/Assert/AssertGuard/Assert}}]] [Op:__inference_train_function_33911]",
     "output_type": "error",
     "traceback": [
      "\u001b[1;31m---------------------------------------------------------------------------\u001b[0m",
      "\u001b[1;31mInvalidArgumentError\u001b[0m                      Traceback (most recent call last)",
      "Input \u001b[1;32mIn [23]\u001b[0m, in \u001b[0;36m<cell line: 38>\u001b[1;34m()\u001b[0m\n\u001b[0;32m     36\u001b[0m \u001b[38;5;66;03m# Fit\u001b[39;00m\n\u001b[0;32m     37\u001b[0m epochs \u001b[38;5;241m=\u001b[39m \u001b[38;5;241m20\u001b[39m\n\u001b[1;32m---> 38\u001b[0m baseline_cnn_fit \u001b[38;5;241m=\u001b[39m \u001b[43mbaseline_cnn\u001b[49m\u001b[38;5;241;43m.\u001b[39;49m\u001b[43mfit\u001b[49m\u001b[43m(\u001b[49m\u001b[43mtrain_ds\u001b[49m\u001b[43m,\u001b[49m\n\u001b[0;32m     39\u001b[0m \u001b[43m                                   \u001b[49m\u001b[38;5;66;43;03m#steps_per_epoch = 163,\u001b[39;49;00m\n\u001b[0;32m     40\u001b[0m \u001b[43m                                   \u001b[49m\u001b[43mepochs\u001b[49m\u001b[38;5;241;43m=\u001b[39;49m\u001b[43mepochs\u001b[49m\u001b[43m,\u001b[49m\n\u001b[0;32m     41\u001b[0m \u001b[43m                                   \u001b[49m\u001b[43mvalidation_data\u001b[49m\u001b[43m \u001b[49m\u001b[38;5;241;43m=\u001b[39;49m\u001b[43m \u001b[49m\u001b[43mval_ds\u001b[49m\u001b[43m,\u001b[49m\n\u001b[0;32m     42\u001b[0m \u001b[43m                                   \u001b[49m\u001b[38;5;66;43;03m#validation_steps= testing_set.samples\u001b[39;49;00m\n\u001b[0;32m     43\u001b[0m \u001b[43m                                   \u001b[49m\u001b[43m)\u001b[49m\n",
      "File \u001b[1;32mD:\\ProgramData\\Anaconda3\\envs\\tf\\lib\\site-packages\\keras\\utils\\traceback_utils.py:67\u001b[0m, in \u001b[0;36mfilter_traceback.<locals>.error_handler\u001b[1;34m(*args, **kwargs)\u001b[0m\n\u001b[0;32m     65\u001b[0m \u001b[38;5;28;01mexcept\u001b[39;00m \u001b[38;5;167;01mException\u001b[39;00m \u001b[38;5;28;01mas\u001b[39;00m e:  \u001b[38;5;66;03m# pylint: disable=broad-except\u001b[39;00m\n\u001b[0;32m     66\u001b[0m   filtered_tb \u001b[38;5;241m=\u001b[39m _process_traceback_frames(e\u001b[38;5;241m.\u001b[39m__traceback__)\n\u001b[1;32m---> 67\u001b[0m   \u001b[38;5;28;01mraise\u001b[39;00m e\u001b[38;5;241m.\u001b[39mwith_traceback(filtered_tb) \u001b[38;5;28;01mfrom\u001b[39;00m \u001b[38;5;28mNone\u001b[39m\n\u001b[0;32m     68\u001b[0m \u001b[38;5;28;01mfinally\u001b[39;00m:\n\u001b[0;32m     69\u001b[0m   \u001b[38;5;28;01mdel\u001b[39;00m filtered_tb\n",
      "File \u001b[1;32mD:\\ProgramData\\Anaconda3\\envs\\tf\\lib\\site-packages\\tensorflow\\python\\eager\\execute.py:54\u001b[0m, in \u001b[0;36mquick_execute\u001b[1;34m(op_name, num_outputs, inputs, attrs, ctx, name)\u001b[0m\n\u001b[0;32m     52\u001b[0m \u001b[38;5;28;01mtry\u001b[39;00m:\n\u001b[0;32m     53\u001b[0m   ctx\u001b[38;5;241m.\u001b[39mensure_initialized()\n\u001b[1;32m---> 54\u001b[0m   tensors \u001b[38;5;241m=\u001b[39m pywrap_tfe\u001b[38;5;241m.\u001b[39mTFE_Py_Execute(ctx\u001b[38;5;241m.\u001b[39m_handle, device_name, op_name,\n\u001b[0;32m     55\u001b[0m                                       inputs, attrs, num_outputs)\n\u001b[0;32m     56\u001b[0m \u001b[38;5;28;01mexcept\u001b[39;00m core\u001b[38;5;241m.\u001b[39m_NotOkStatusException \u001b[38;5;28;01mas\u001b[39;00m e:\n\u001b[0;32m     57\u001b[0m   \u001b[38;5;28;01mif\u001b[39;00m name \u001b[38;5;129;01mis\u001b[39;00m \u001b[38;5;129;01mnot\u001b[39;00m \u001b[38;5;28;01mNone\u001b[39;00m:\n",
      "\u001b[1;31mInvalidArgumentError\u001b[0m: Graph execution error:\n\nDetected at node 'assert_greater_equal/Assert/AssertGuard/Assert' defined at (most recent call last):\n    File \"D:\\ProgramData\\Anaconda3\\envs\\tf\\lib\\runpy.py\", line 196, in _run_module_as_main\n      return _run_code(code, main_globals, None,\n    File \"D:\\ProgramData\\Anaconda3\\envs\\tf\\lib\\runpy.py\", line 86, in _run_code\n      exec(code, run_globals)\n    File \"D:\\ProgramData\\Anaconda3\\envs\\tf\\lib\\site-packages\\ipykernel_launcher.py\", line 16, in <module>\n      app.launch_new_instance()\n    File \"D:\\ProgramData\\Anaconda3\\envs\\tf\\lib\\site-packages\\traitlets\\config\\application.py\", line 846, in launch_instance\n      app.start()\n    File \"D:\\ProgramData\\Anaconda3\\envs\\tf\\lib\\site-packages\\ipykernel\\kernelapp.py\", line 677, in start\n      self.io_loop.start()\n    File \"D:\\ProgramData\\Anaconda3\\envs\\tf\\lib\\site-packages\\tornado\\platform\\asyncio.py\", line 199, in start\n      self.asyncio_loop.run_forever()\n    File \"D:\\ProgramData\\Anaconda3\\envs\\tf\\lib\\asyncio\\base_events.py\", line 600, in run_forever\n      self._run_once()\n    File \"D:\\ProgramData\\Anaconda3\\envs\\tf\\lib\\asyncio\\base_events.py\", line 1896, in _run_once\n      handle._run()\n    File \"D:\\ProgramData\\Anaconda3\\envs\\tf\\lib\\asyncio\\events.py\", line 80, in _run\n      self._context.run(self._callback, *self._args)\n    File \"D:\\ProgramData\\Anaconda3\\envs\\tf\\lib\\site-packages\\ipykernel\\kernelbase.py\", line 471, in dispatch_queue\n      await self.process_one()\n    File \"D:\\ProgramData\\Anaconda3\\envs\\tf\\lib\\site-packages\\ipykernel\\kernelbase.py\", line 460, in process_one\n      await dispatch(*args)\n    File \"D:\\ProgramData\\Anaconda3\\envs\\tf\\lib\\site-packages\\ipykernel\\kernelbase.py\", line 367, in dispatch_shell\n      await result\n    File \"D:\\ProgramData\\Anaconda3\\envs\\tf\\lib\\site-packages\\ipykernel\\kernelbase.py\", line 662, in execute_request\n      reply_content = await reply_content\n    File \"D:\\ProgramData\\Anaconda3\\envs\\tf\\lib\\site-packages\\ipykernel\\ipkernel.py\", line 360, in do_execute\n      res = shell.run_cell(code, store_history=store_history, silent=silent)\n    File \"D:\\ProgramData\\Anaconda3\\envs\\tf\\lib\\site-packages\\ipykernel\\zmqshell.py\", line 532, in run_cell\n      return super().run_cell(*args, **kwargs)\n    File \"D:\\ProgramData\\Anaconda3\\envs\\tf\\lib\\site-packages\\IPython\\core\\interactiveshell.py\", line 2880, in run_cell\n      result = self._run_cell(\n    File \"D:\\ProgramData\\Anaconda3\\envs\\tf\\lib\\site-packages\\IPython\\core\\interactiveshell.py\", line 2935, in _run_cell\n      return runner(coro)\n    File \"D:\\ProgramData\\Anaconda3\\envs\\tf\\lib\\site-packages\\IPython\\core\\async_helpers.py\", line 129, in _pseudo_sync_runner\n      coro.send(None)\n    File \"D:\\ProgramData\\Anaconda3\\envs\\tf\\lib\\site-packages\\IPython\\core\\interactiveshell.py\", line 3134, in run_cell_async\n      has_raised = await self.run_ast_nodes(code_ast.body, cell_name,\n    File \"D:\\ProgramData\\Anaconda3\\envs\\tf\\lib\\site-packages\\IPython\\core\\interactiveshell.py\", line 3337, in run_ast_nodes\n      if await self.run_code(code, result, async_=asy):\n    File \"D:\\ProgramData\\Anaconda3\\envs\\tf\\lib\\site-packages\\IPython\\core\\interactiveshell.py\", line 3397, in run_code\n      exec(code_obj, self.user_global_ns, self.user_ns)\n    File \"C:\\Users\\kevin\\AppData\\Local\\Temp\\ipykernel_13064\\3856174219.py\", line 38, in <cell line: 38>\n      baseline_cnn_fit = baseline_cnn.fit(train_ds,\n    File \"D:\\ProgramData\\Anaconda3\\envs\\tf\\lib\\site-packages\\keras\\utils\\traceback_utils.py\", line 64, in error_handler\n      return fn(*args, **kwargs)\n    File \"D:\\ProgramData\\Anaconda3\\envs\\tf\\lib\\site-packages\\keras\\engine\\training.py\", line 1409, in fit\n      tmp_logs = self.train_function(iterator)\n    File \"D:\\ProgramData\\Anaconda3\\envs\\tf\\lib\\site-packages\\keras\\engine\\training.py\", line 1051, in train_function\n      return step_function(self, iterator)\n    File \"D:\\ProgramData\\Anaconda3\\envs\\tf\\lib\\site-packages\\keras\\engine\\training.py\", line 1040, in step_function\n      outputs = model.distribute_strategy.run(run_step, args=(data,))\n    File \"D:\\ProgramData\\Anaconda3\\envs\\tf\\lib\\site-packages\\keras\\engine\\training.py\", line 1030, in run_step\n      outputs = model.train_step(data)\n    File \"D:\\ProgramData\\Anaconda3\\envs\\tf\\lib\\site-packages\\keras\\engine\\training.py\", line 894, in train_step\n      return self.compute_metrics(x, y, y_pred, sample_weight)\n    File \"D:\\ProgramData\\Anaconda3\\envs\\tf\\lib\\site-packages\\keras\\engine\\training.py\", line 987, in compute_metrics\n      self.compiled_metrics.update_state(y, y_pred, sample_weight)\n    File \"D:\\ProgramData\\Anaconda3\\envs\\tf\\lib\\site-packages\\keras\\engine\\compile_utils.py\", line 501, in update_state\n      metric_obj.update_state(y_t, y_p, sample_weight=mask)\n    File \"D:\\ProgramData\\Anaconda3\\envs\\tf\\lib\\site-packages\\keras\\utils\\metrics_utils.py\", line 70, in decorated\n      update_op = update_state_fn(*args, **kwargs)\n    File \"D:\\ProgramData\\Anaconda3\\envs\\tf\\lib\\site-packages\\keras\\metrics\\base_metric.py\", line 140, in update_state_fn\n      return ag_update_state(*args, **kwargs)\n    File \"D:\\ProgramData\\Anaconda3\\envs\\tf\\lib\\site-packages\\keras\\metrics\\metrics.py\", line 818, in update_state\n      return metrics_utils.update_confusion_matrix_variables(\n    File \"D:\\ProgramData\\Anaconda3\\envs\\tf\\lib\\site-packages\\keras\\utils\\metrics_utils.py\", line 602, in update_confusion_matrix_variables\n      tf.debugging.assert_greater_equal(\nNode: 'assert_greater_equal/Assert/AssertGuard/Assert'\nassertion failed: [predictions must be >= 0] [Condition x >= y did not hold element-wise:] [x (sequential_3/sigmoid/BiasAdd:0) = ] [[-0.155957013][-0.128160834][-0.132769421]...] [y (Cast_6/x:0) = ] [0]\n\t [[{{node assert_greater_equal/Assert/AssertGuard/Assert}}]] [Op:__inference_train_function_33911]"
     ]
    }
   ],
   "source": [
    "# baseline model\n",
    "baseline_cnn = Sequential()\n",
    "\n",
    "# Rescaling\n",
    "baseline_cnn.add(Rescaling(1./255, input_shape=(img_height, img_width, grayscale)))\n",
    "\n",
    "#Convolution\n",
    "baseline_cnn.add(Conv2D(32, (3, 3),\n",
    "                        padding='same',\n",
    "                        activation=\"relu\", \n",
    "                        input_shape=(img_height, img_width, grayscale)))\n",
    "\n",
    "#Pooling\n",
    "baseline_cnn.add(MaxPooling2D(pool_size = (2, 2)))\n",
    "\n",
    "# Flatten\n",
    "baseline_cnn.add(Flatten())\n",
    "\n",
    "baseline_cnn.add(Dense(activation = 'relu', units = 128))\n",
    "\n",
    "# Output Layer\n",
    "baseline_cnn.add(Dense(units=1, name='sigmoid'))\n",
    "\n",
    "# Compile the Neural network\n",
    "baseline_cnn.compile(optimizer = 'adam', \n",
    "                     loss = 'binary_crossentropy',\n",
    "                     metrics = ['accuracy', \n",
    "                                keras.metrics.Precision(),\n",
    "                                keras.metrics.Recall(),\n",
    "                                keras.metrics.SpecificityAtSensitivity(0.5),\n",
    "                                keras.metrics.SensitivityAtSpecificity(0.5)])\n",
    "\n",
    "# Summary\n",
    "baseline_cnn.summary()\n",
    "\n",
    "# Fit\n",
    "epochs = 20\n",
    "baseline_cnn_fit = baseline_cnn.fit(train_ds,\n",
    "                                   #steps_per_epoch = 163,\n",
    "                                   epochs=epochs,\n",
    "                                   validation_data = val_ds,\n",
    "                                   #validation_steps= testing_set.samples\n",
    "                                   )"
   ]
  },
  {
   "cell_type": "code",
   "execution_count": null,
   "id": "d5615caf",
   "metadata": {},
   "outputs": [],
   "source": [
    "# Data augmentation\n",
    "from keras.layers import RandomFlip\n",
    "from keras.layers import RandomRotation\n",
    "from keras.layers import RandomZoom\n",
    "\n",
    "rescale = Sequential([Rescaling(1./255)])\n",
    "\n",
    "data_augmentation = keras.Sequential([\n",
    "                                RandomFlip(\"horizontal\",\n",
    "                                        input_shape=(img_height, img_width, 1)),\n",
    "                                RandomRotation(0.1),\n",
    "                                RandomZoom(0.1)\n",
    "                    ])\n",
    "\n",
    "# Visualize a few augmented examples by applying data augmentation to the same image several times:\n",
    "plt.figure(figsize=(10, 10))\n",
    "for images, _ in train_ds.take(1):\n",
    "  for i in range(9):\n",
    "    augmented_images = data_augmentation(images)\n",
    "    ax = plt.subplot(3, 3, i + 1)\n",
    "    plt.imshow(augmented_images[0].numpy().astype(\"uint8\"),cmap='gray')\n",
    "    plt.axis(\"off\")"
   ]
  },
  {
   "cell_type": "code",
   "execution_count": null,
   "id": "bfc57cf4",
   "metadata": {},
   "outputs": [],
   "source": [
    "model_aug = Sequential([rescale,\n",
    "                        data_augmentation,\n",
    "                        Conv2D(32, (3,3), \n",
    "                               padding='same', \n",
    "                               activation='relu', \n",
    "                               input_shape=(img_height, img_width, 1)),\n",
    "                        MaxPooling2D(pool_size=(2,2)),\n",
    "                        Conv2D(32, (3,3), \n",
    "                               padding='same', \n",
    "                               activation='relu'),\n",
    "                        MaxPooling2D(pool_size=(2,2)),\n",
    "                        Flatten(),\n",
    "                        Dense(128, activation='relu'),\n",
    "                        Dense(units=1, name=\"sigmoid\")\n",
    "                        ])\n",
    "# Compile the Neural network\n",
    "model_aug.compile(optimizer = 'adam', \n",
    "                   loss = 'binary_crossentropy',\n",
    "                   metrics = ['accuracy', \n",
    "                              keras.metrics.Precision(),\n",
    "                              keras.metrics.Recall(),\n",
    "                              keras.metrics.SpecificityAtSensitivity(0.5),\n",
    "                              keras.metrics.SensitivityAtSpecificity(0.5)])\n",
    "\n",
    "# Summary\n",
    "#model_aug.summary()\n",
    "\n",
    "# Fit model\n",
    "#epochs=20\n",
    "#cnn_aug_model = model_augmentation.fit(train_ds,\n",
    "                                       #steps_per_epoch = 163,\n",
    "#                                       epochs=epochs,\n",
    "#                                       validation_data = val_ds,\n",
    "                                       #validation_steps= testing_set.samples\n",
    "#                                       )"
   ]
  },
  {
   "cell_type": "code",
   "execution_count": null,
   "id": "9511ea83",
   "metadata": {},
   "outputs": [],
   "source": [
    "model_aug.summary()"
   ]
  },
  {
   "cell_type": "code",
   "execution_count": null,
   "id": "a12dd52f",
   "metadata": {},
   "outputs": [],
   "source": [
    "# Model with transfer learning\n",
    "from keras.applications import VGG19\n",
    "\n",
    "cnn_vgg19 = VGG19(weights='imagenet',\n",
    "                 include_top=False,\n",
    "                 input_shape=(img_height, img_width, rgb))\n",
    "\n",
    "cnn_vgg19.summary()"
   ]
  },
  {
   "cell_type": "code",
   "execution_count": null,
   "id": "5506acb0",
   "metadata": {},
   "outputs": [],
   "source": [
    "model_transfer = Sequential([\n",
    "                          data_augmentation,\n",
    "                          Rescaling(1./255, input_shape=(img_height, img_width,1)),\n",
    "                          Conv2D(32, (3,3), \n",
    "                                 padding='same', \n",
    "                                 activation='relu', \n",
    "                                 input_shape=(img_height, img_width, 1)),\n",
    "                          MaxPooling2D(pool_size=(2,2)),\n",
    "                          Conv2D(32, (3,3), padding='same', activation='relu'),\n",
    "                          MaxPooling2D(pool_size=(2,2)),\n",
    "                          Dropout(0.2),\n",
    "                          Flatten(),\n",
    "                          Dense(128, activation='relu'),\n",
    "                          Dense(units=1, name=\"sigmoid\")"
   ]
  }
 ],
 "metadata": {
  "kernelspec": {
   "display_name": "tf",
   "language": "python",
   "name": "tf"
  },
  "language_info": {
   "codemirror_mode": {
    "name": "ipython",
    "version": 3
   },
   "file_extension": ".py",
   "mimetype": "text/x-python",
   "name": "python",
   "nbconvert_exporter": "python",
   "pygments_lexer": "ipython3",
   "version": "3.7.12"
  }
 },
 "nbformat": 4,
 "nbformat_minor": 5
}
