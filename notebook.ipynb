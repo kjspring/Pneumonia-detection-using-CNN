{
 "cells": [
  {
   "cell_type": "markdown",
   "id": "bb2c597d",
   "metadata": {},
   "source": [
    "# Identifying Pneumonina using Convolutional Neural Networks\n",
    "\n",
    "- Student Name: Kevin Spring\n",
    "- Student pace: Flex\n",
    "- Scheduled Project Review: December 12, 2022\n",
    "- Instructor name: Morgan Jones\n",
    "- Blog Post"
   ]
  },
  {
   "cell_type": "markdown",
   "id": "447d8feb",
   "metadata": {},
   "source": [
    "# Summary\n"
   ]
  },
  {
   "cell_type": "markdown",
   "id": "aaf38b31",
   "metadata": {},
   "source": [
    "# Table of Contents"
   ]
  },
  {
   "cell_type": "markdown",
   "id": "5ab0d6a5",
   "metadata": {},
   "source": [
    "# Introduction"
   ]
  },
  {
   "cell_type": "markdown",
   "id": "1e100c03",
   "metadata": {},
   "source": [
    "# Methodology"
   ]
  },
  {
   "cell_type": "markdown",
   "id": "d20e556b",
   "metadata": {},
   "source": [
    "## Data"
   ]
  },
  {
   "cell_type": "code",
   "execution_count": 21,
   "id": "2f8ac168",
   "metadata": {},
   "outputs": [],
   "source": [
    "# Steps:\n",
    "# 1. Load data\n",
    "# 2. Look at sample image and label\n",
    "\n",
    "# The data is in \n",
    "import os, shutil\n",
    "PATH = os.path.join(os.path.abspath(os.getcwd()),'data')"
   ]
  },
  {
   "cell_type": "code",
   "execution_count": 30,
   "id": "73fac1d4",
   "metadata": {},
   "outputs": [
    {
     "data": {
      "text/plain": [
       "'D:\\\\Documents\\\\GitHub\\\\flatiron-data-science\\\\phase04\\\\project\\\\Pneumonia-detection-using-CNN\\\\data'"
      ]
     },
     "execution_count": 30,
     "metadata": {},
     "output_type": "execute_result"
    }
   ],
   "source": [
    "PATH"
   ]
  },
  {
   "cell_type": "code",
   "execution_count": 31,
   "id": "7afac1f0",
   "metadata": {},
   "outputs": [],
   "source": [
    "train_dir = os.path.join(PATH, 'train')\n",
    "train_normal = os.path.join(train_dir, 'NORMAL')\n",
    "train_pneumonia = os.path.join(train_dir, 'PNEUMONIA')"
   ]
  },
  {
   "cell_type": "code",
   "execution_count": 32,
   "id": "4e7b59aa",
   "metadata": {},
   "outputs": [
    {
     "data": {
      "text/plain": [
       "'D:\\\\Documents\\\\GitHub\\\\flatiron-data-science\\\\phase04\\\\project\\\\Pneumonia-detection-using-CNN\\\\data\\\\train\\\\NORMAL'"
      ]
     },
     "execution_count": 32,
     "metadata": {},
     "output_type": "execute_result"
    }
   ],
   "source": [
    "train_normal"
   ]
  },
  {
   "cell_type": "code",
   "execution_count": 33,
   "id": "9a62ad98",
   "metadata": {},
   "outputs": [
    {
     "data": {
      "text/plain": [
       "1341"
      ]
     },
     "execution_count": 33,
     "metadata": {},
     "output_type": "execute_result"
    }
   ],
   "source": [
    "len(os.listdir(train_normal))"
   ]
  },
  {
   "cell_type": "code",
   "execution_count": 36,
   "id": "5eafdc89",
   "metadata": {},
   "outputs": [
    {
     "name": "stdout",
     "output_type": "stream",
     "text": [
      "Found 0 images belonging to 0 classes.\n"
     ]
    }
   ],
   "source": [
    "from keras.preprocessing.image import ImageDataGenerator#, array_to_img, img_to_array, load_img\n",
    "\n",
    "# get all the data in the directory strain, and reshape them\n",
    "train_norm_generator = ImageDataGenerator(rescale=1./255).flow_from_directory(\n",
    "        train_normal, \n",
    "        target_size=(2090, 1858), batch_size=len(os.listdir(train_normal)))"
   ]
  },
  {
   "cell_type": "code",
   "execution_count": null,
   "id": "8bdc3aab",
   "metadata": {},
   "outputs": [],
   "source": []
  }
 ],
 "metadata": {
  "kernelspec": {
   "display_name": "tf",
   "language": "python",
   "name": "tf"
  },
  "language_info": {
   "codemirror_mode": {
    "name": "ipython",
    "version": 3
   },
   "file_extension": ".py",
   "mimetype": "text/x-python",
   "name": "python",
   "nbconvert_exporter": "python",
   "pygments_lexer": "ipython3",
   "version": "3.10.6"
  }
 },
 "nbformat": 4,
 "nbformat_minor": 5
}
