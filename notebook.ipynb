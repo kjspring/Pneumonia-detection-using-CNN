{
 "cells": [
  {
   "cell_type": "markdown",
   "id": "4ceb1360",
   "metadata": {},
   "source": [
    "# Identifying Pneumonina using Convolutional Neural Networks\n",
    "\n",
    "- Student Name: Kevin Spring\n",
    "- Student pace: Flex\n",
    "- Scheduled Project Review: December 12, 2022\n",
    "- Instructor name: Morgan Jones\n",
    "- Blog Post"
   ]
  }
 ],
 "metadata": {
  "kernelspec": {
   "display_name": "tf",
   "language": "python",
   "name": "tf"
  },
  "language_info": {
   "codemirror_mode": {
    "name": "ipython",
    "version": 3
   },
   "file_extension": ".py",
   "mimetype": "text/x-python",
   "name": "python",
   "nbconvert_exporter": "python",
   "pygments_lexer": "ipython3",
   "version": "3.10.6"
  }
 },
 "nbformat": 4,
 "nbformat_minor": 5
}
