{
 "cells": [
  {
   "cell_type": "code",
   "execution_count": null,
   "id": "2939c7db",
   "metadata": {},
   "outputs": [],
   "source": [
    "# Data Cleaner"
   ]
  },
  {
   "cell_type": "code",
   "execution_count": 1,
   "id": "97e693b7",
   "metadata": {},
   "outputs": [
    {
     "data": {
      "text/plain": [
       "'D:\\\\Documents\\\\GitHub\\\\flatiron-data-science\\\\phase04\\\\project\\\\Pneumonia-detection-using-CNN\\\\data/'"
      ]
     },
     "execution_count": 1,
     "metadata": {},
     "output_type": "execute_result"
    }
   ],
   "source": [
    "# Unpack the data.zip from Kaggle and turn into test-train split using python_splitter\n",
    "# 80% will be in training, 20% in testing\n",
    "\n",
    "import os\n",
    "# absolute path of unzipped data directory\n",
    "PATH = os.path.join(os.path.abspath(os.getcwd()),'data/')\n",
    "\n",
    "# Uncomment the lines below to install python_splitter and create the\n",
    "# trian test split\n",
    "!pip install python_splitter\n",
    "from python_splitter import split_from_folder # https://github.com/bharatadk/python_splitter\n",
    "split_from_folder(PATH, train = 0.8, test=0.2)\n",
    "#PATH"
   ]
  },
  {
   "cell_type": "code",
   "execution_count": null,
   "id": "b526ab57",
   "metadata": {},
   "outputs": [],
   "source": [
    "# Check for class imbalance between pneumonia and normal classified images\n",
    "def file_count(path, class_name):\n",
    "    '''\n",
    "    This helper function takes a file directory and counts\n",
    "    the number of files in each subdirectory.\n",
    "    '''\n",
    "    import os\n",
    "    dir_path = os.path.join(path, class_name + '/')\n",
    "    count = 0\n",
    "    for root_dir, cur_dir, files in os.walk(dir_path):\n",
    "        count += len(files)\n",
    "    print(f'{class_name} file count: {count}')\n",
    "    return count"
   ]
  },
  {
   "cell_type": "code",
   "execution_count": null,
   "id": "c925ec83",
   "metadata": {},
   "outputs": [],
   "source": [
    "# Identify counts of each class \n",
    "normal_count = file_count(PATH, 'NORMAL')\n",
    "pneumonia_count = file_count(PATH, 'PNEUMONIA')\n",
    "total_count = normal_count + pneumonia_count"
   ]
  },
  {
   "cell_type": "code",
   "execution_count": null,
   "id": "e4da698f",
   "metadata": {},
   "outputs": [],
   "source": [
    "# Create class weights to correct for imbalance\n",
    "normal_weight = total_count / (2*normal_count)\n",
    "pneumonia_weight = total_count / (2*pneumonia_count)\n",
    "\n",
    "print(f'\\nClass Weights')\n",
    "print(f'NORMAL weight: {normal_weight}')\n",
    "print(f'PNEUMONIA weight: {pneumonia_weight}')"
   ]
  }
 ],
 "metadata": {
  "kernelspec": {
   "display_name": "learn-env",
   "language": "python",
   "name": "learn-env"
  },
  "language_info": {
   "codemirror_mode": {
    "name": "ipython",
    "version": 3
   },
   "file_extension": ".py",
   "mimetype": "text/x-python",
   "name": "python",
   "nbconvert_exporter": "python",
   "pygments_lexer": "ipython3",
   "version": "3.9.7"
  }
 },
 "nbformat": 4,
 "nbformat_minor": 5
}
